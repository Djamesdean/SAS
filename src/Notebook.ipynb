{
 "cells": [
  {
   "cell_type": "code",
   "execution_count": 47,
   "metadata": {},
   "outputs": [],
   "source": [
    "import pandas as pd\n",
    "import matplotlib.pyplot as plt \n",
    "import re \n",
    "from sklearn.model_selection import train_test_split\n",
    "from imblearn.over_sampling import SMOTE\n",
    "from sklearn.feature_extraction.text import TfidfVectorizer\n",
    "import nltk\n",
    "from nltk.stem import WordNetLemmatizer\n",
    "from nltk.tokenize import word_tokenize\n",
    "from vaderSentiment.vaderSentiment import SentimentIntensityAnalyzer\n",
    "from collections import Counter\n",
    "from wordcloud import WordCloud, STOPWORDS\n",
    "from sklearn.metrics import accuracy_score, confusion_matrix, classification_report \n",
    "from sklearn.naive_bayes import MultinomialNB  \n",
    "from sklearn.linear_model import LogisticRegression \n",
    "from sklearn.model_selection import train_test_split, GridSearchCV, KFold \n",
    "import seaborn as sns \n",
    "\n",
    "import mlflow \n",
    "import mlflow.sklearn\n",
    "import dagshub\n",
    "import os"
   ]
  },
  {
   "cell_type": "code",
   "execution_count": 38,
   "metadata": {},
   "outputs": [
    {
     "name": "stdout",
     "output_type": "stream",
     "text": [
      "(17316, 5)\n",
      "Dataset shape: (17316, 5)\n"
     ]
    }
   ],
   "source": [
    "data = pd.read_csv('/Users/merkava/Documents/School/Software engineering/SAS/data/raw/Steam.csv')\n",
    "data.dropna(inplace=True)\n",
    "\n",
    "print(data.shape)\n",
    "print(f\"Dataset shape: {data.shape}\")\n",
    "\n"
   ]
  },
  {
   "cell_type": "code",
   "execution_count": 39,
   "metadata": {},
   "outputs": [
    {
     "data": {
      "image/png": "[encoded data removed]",
      "text/plain": [
       "<Figure size 800x600 with 1 Axes>"
      ]
     },
     "metadata": {},
     "output_type": "display_data"
    }
   ],
   "source": [
    "balance = data['user_suggestion'].value_counts()\n",
    "plt.figure(figsize=(8, 6))\n",
    "plt.pie(balance, labels=balance.index, autopct='%1.1f%%', startangle=90)\n",
    "plt.title('Sentiment Distribution as Percentage')\n",
    "plt.axis('equal')  # Equal aspect ratio ensures that pie is drawn as a circle.\n",
    "plt.show()"
   ]
  },
  {
   "cell_type": "code",
   "execution_count": 40,
   "metadata": {},
   "outputs": [
    {
     "name": "stderr",
     "output_type": "stream",
     "text": [
      "[nltk_data] Downloading package punkt to /Users/merkava/nltk_data...\n",
      "[nltk_data]   Package punkt is already up-to-date!\n",
      "[nltk_data] Downloading package wordnet to /Users/merkava/nltk_data...\n",
      "[nltk_data]   Package wordnet is already up-to-date!\n"
     ]
    }
   ],
   "source": [
    "nltk.download('punkt')\n",
    "nltk.download('wordnet')\n",
    "\n",
    "lemmatizer = WordNetLemmatizer()\n",
    "def preprocess_text(text):\n",
    "        text = text.lower()\n",
    "        text = re.sub(r'[^a-zA-Z\\s]', '', text)\n",
    "        # Tokenize text\n",
    "        tokens = word_tokenize(text)\n",
    "        tokens = [lemmatizer.lemmatize(word) for word in tokens]\n",
    "        return ' '.join(tokens)\n"
   ]
  },
  {
   "cell_type": "code",
   "execution_count": 41,
   "metadata": {},
   "outputs": [],
   "source": [
    "data['cleaned_review'] = data['user_review'].apply(preprocess_text)\n",
    "\n",
    "# Extract features and target variables\n",
    "X = data['cleaned_review']\n",
    "y = data['user_suggestion']  \n",
    "# Split dataset into training and test sets (80% train, 20% test)\n",
    "X_train, X_test, y_train, y_test = train_test_split(X, y, test_size=0.2, random_state=42)"
   ]
  },
  {
   "cell_type": "code",
   "execution_count": 42,
   "metadata": {},
   "outputs": [
    {
     "ename": "KeyboardInterrupt",
     "evalue": "",
     "output_type": "error",
     "traceback": [
      "\u001b[0;31m---------------------------------------------------------------------------\u001b[0m",
      "\u001b[0;31mKeyboardInterrupt\u001b[0m                         Traceback (most recent call last)",
      "Cell \u001b[0;32mIn[42], line 44\u001b[0m\n\u001b[1;32m     40\u001b[0m   plt\u001b[38;5;241m.\u001b[39maxis(\u001b[38;5;124m\"\u001b[39m\u001b[38;5;124moff\u001b[39m\u001b[38;5;124m\"\u001b[39m)\n\u001b[1;32m     42\u001b[0m   plt\u001b[38;5;241m.\u001b[39mshow()\n\u001b[0;32m---> 44\u001b[0m \u001b[43mplot_wordclouds\u001b[49m\u001b[43m(\u001b[49m\u001b[43mdata\u001b[49m\u001b[43m)\u001b[49m\n",
      "Cell \u001b[0;32mIn[42], line 13\u001b[0m, in \u001b[0;36mplot_wordclouds\u001b[0;34m(df)\u001b[0m\n\u001b[1;32m     10\u001b[0m positive_reviews \u001b[38;5;241m=\u001b[39m \u001b[38;5;124m\"\u001b[39m\u001b[38;5;124m \u001b[39m\u001b[38;5;124m\"\u001b[39m\u001b[38;5;241m.\u001b[39mjoin(df[df[\u001b[38;5;124m'\u001b[39m\u001b[38;5;124muser_suggestion\u001b[39m\u001b[38;5;124m'\u001b[39m] \u001b[38;5;241m==\u001b[39m \u001b[38;5;241m1\u001b[39m][\u001b[38;5;124m'\u001b[39m\u001b[38;5;124mcleaned_review\u001b[39m\u001b[38;5;124m'\u001b[39m])\n\u001b[1;32m     11\u001b[0m negative_reviews \u001b[38;5;241m=\u001b[39m \u001b[38;5;124m\"\u001b[39m\u001b[38;5;124m \u001b[39m\u001b[38;5;124m\"\u001b[39m\u001b[38;5;241m.\u001b[39mjoin(df[df[\u001b[38;5;124m'\u001b[39m\u001b[38;5;124muser_suggestion\u001b[39m\u001b[38;5;124m'\u001b[39m] \u001b[38;5;241m==\u001b[39m \u001b[38;5;241m0\u001b[39m][\u001b[38;5;124m'\u001b[39m\u001b[38;5;124mcleaned_review\u001b[39m\u001b[38;5;124m'\u001b[39m])\n\u001b[0;32m---> 13\u001b[0m positive_word_scores \u001b[38;5;241m=\u001b[39m {word: get_sentiment_score(word) \u001b[38;5;28;01mfor\u001b[39;00m word \u001b[38;5;129;01min\u001b[39;00m positive_reviews\u001b[38;5;241m.\u001b[39msplit()}\n\u001b[1;32m     14\u001b[0m negative_word_scores \u001b[38;5;241m=\u001b[39m {word: get_sentiment_score(word) \u001b[38;5;28;01mfor\u001b[39;00m word \u001b[38;5;129;01min\u001b[39;00m negative_reviews\u001b[38;5;241m.\u001b[39msplit()}\n\u001b[1;32m     16\u001b[0m \u001b[38;5;66;03m# Create WordCloud objects\u001b[39;00m\n\u001b[1;32m     17\u001b[0m \u001b[38;5;66;03m#positive_word_counts = Counter(positive_reviews.split())\u001b[39;00m\n",
      "\u001b[0;31mKeyboardInterrupt\u001b[0m: "
     ]
    }
   ],
   "source": [
    "\n",
    "analyzer = SentimentIntensityAnalyzer()\n",
    "\n",
    "def get_sentiment_score(text):\n",
    "  scores = analyzer.polarity_scores(text)\n",
    "  return scores['compound']\n",
    "\n",
    "def plot_wordclouds(df):\n",
    "\n",
    "  # Combine all reviews for each sentiment\n",
    "  positive_reviews = \" \".join(df[df['user_suggestion'] == 1]['cleaned_review'])\n",
    "  negative_reviews = \" \".join(df[df['user_suggestion'] == 0]['cleaned_review'])\n",
    "\n",
    "  positive_word_scores = {word: get_sentiment_score(word) for word in positive_reviews.split()}\n",
    "  negative_word_scores = {word: get_sentiment_score(word) for word in negative_reviews.split()}\n",
    "\n",
    "  # Create WordCloud objects\n",
    "  #positive_word_counts = Counter(positive_reviews.split())\n",
    "  negative_word_counts = Counter(negative_reviews.split())\n",
    "\n",
    "  # Create WordCloud objects with frequency and sentiment score weighting\n",
    "  wordcloud_positive = WordCloud(width=800, height=400, background_color='white', \n",
    "                                  stopwords=STOPWORDS).generate_from_frequencies(positive_word_scores)\n",
    "\n",
    "  # Filter out words with positive sentiment scores from the negative word cloud\n",
    "  negative_word_scores_filtered = {word: score * negative_word_counts[word] \n",
    "                                   for word, score in negative_word_scores.items() if score < 0}\n",
    "\n",
    "  wordcloud_negative = WordCloud(width=800, height=400, background_color='white', \n",
    "                                  stopwords=STOPWORDS).generate_from_frequencies(negative_word_scores_filtered)\n",
    "  # Display the generated images\n",
    "  plt.figure(figsize=(20, 10))\n",
    "  plt.subplot(1, 2, 1)\n",
    "  plt.imshow(wordcloud_positive, interpolation='bilinear')\n",
    "  plt.title('Positive Reviews')\n",
    "  plt.axis(\"off\")\n",
    "\n",
    "  plt.subplot(1, 2, 2)\n",
    "  plt.imshow(wordcloud_negative, interpolation='bilinear')\n",
    "  plt.title('Negative Reviews')\n",
    "  plt.axis(\"off\")\n",
    "\n",
    "  plt.show()\n",
    "\n",
    "plot_wordclouds(data)\n"
   ]
  },
  {
   "cell_type": "code",
   "execution_count": 43,
   "metadata": {},
   "outputs": [],
   "source": [
    "tfidf = TfidfVectorizer(max_features=5000)  # Adjust max_features as needed\n",
    "X_train_tfidf = tfidf.fit_transform(X_train)\n",
    "X_test_tfidf = tfidf.transform(X_test)"
   ]
  },
  {
   "cell_type": "code",
   "execution_count": 49,
   "metadata": {},
   "outputs": [
    {
     "data": {
      "text/html": [
       "<pre style=\"white-space:pre;overflow-x:auto;line-height:normal;font-family:Menlo,'DejaVu Sans Mono',consolas,'Courier New',monospace\">Initialized MLflow to track repo <span style=\"color: #008000; text-decoration-color: #008000\">\"Djamesdean/SAS-MLFLOW\"</span>\n",
       "</pre>\n"
      ],
      "text/plain": [
       "Initialized MLflow to track repo \u001b[32m\"Djamesdean/SAS-MLFLOW\"\u001b[0m\n"
      ]
     },
     "metadata": {},
     "output_type": "display_data"
    },
    {
     "data": {
      "text/html": [
       "<pre style=\"white-space:pre;overflow-x:auto;line-height:normal;font-family:Menlo,'DejaVu Sans Mono',consolas,'Courier New',monospace\">Repository Djamesdean/SAS-MLFLOW initialized!\n",
       "</pre>\n"
      ],
      "text/plain": [
       "Repository Djamesdean/SAS-MLFLOW initialized!\n"
      ]
     },
     "metadata": {},
     "output_type": "display_data"
    },
    {
     "name": "stderr",
     "output_type": "stream",
     "text": [
      "2025/02/03 10:26:33 INFO mlflow.tracking.fluent: Experiment with name 'steam_reviews_sentiment' does not exist. Creating a new experiment.\n"
     ]
    },
    {
     "data": {
      "text/plain": [
       "<Experiment: artifact_location='mlflow-artifacts:/5875608e0d36417face2d067350632a7', creation_time=1738574793692, experiment_id='0', last_update_time=1738574793692, lifecycle_stage='active', name='steam_reviews_sentiment', tags={}>"
      ]
     },
     "execution_count": 49,
     "metadata": {},
     "output_type": "execute_result"
    }
   ],
   "source": [
    "os.environ['MLFLOW_TRACKING_USERNAME'] = 'djamesdean'\n",
    "os.environ['MLFLOW_TRACKING_PASSWORD'] = '8e009ed06f4ac66d34599916803055c698bbb9bf'\n",
    "\n",
    "dagshub.init(repo_owner='Djamesdean', repo_name='SAS-MLFLOW', mlflow=True)\n",
    "\n",
    "# Set MLflow Tracking URI (Modify this if using a remote MLflow server)\n",
    "mlflow.set_tracking_uri(\"https://dagshub.com/Djamesdean/SAS-MLFLOW.mlflow\")  # Change if running MLflow server elsewhere\n",
    "\n",
    "# Set Experiment Name\n",
    "mlflow.set_experiment(\"steam_reviews_sentiment\")"
   ]
  },
  {
   "cell_type": "code",
   "execution_count": 50,
   "metadata": {},
   "outputs": [],
   "source": [
    "def evaluate_model(y_true, y_pred, model_name):\n",
    "    \"\"\"Evaluates and logs model performance to MLflow.\"\"\"\n",
    "    accuracy = accuracy_score(y_true, y_pred)\n",
    "    report = classification_report(y_true, y_pred, output_dict=True)\n",
    "\n",
    "    print(f\"\\n{model_name} Evaluation:\")\n",
    "    print(\"Accuracy:\", accuracy)\n",
    "    print(\"Classification Report:\\n\", classification_report(y_true, y_pred))\n",
    "\n",
    "    cm = confusion_matrix(y_true, y_pred)\n",
    "    sns.heatmap(cm, annot=True, fmt=\"d\", cmap=\"Blues\")\n",
    "    plt.title(f\"{model_name} Confusion Matrix\")\n",
    "    plt.show()\n",
    "\n",
    "    # Log metrics to MLflow\n",
    "    mlflow.log_metric(\"accuracy\", accuracy)\n",
    "    mlflow.log_metric(\"precision_positive\", report['1']['precision'])\n",
    "    mlflow.log_metric(\"recall_positive\", report['1']['recall'])\n",
    "    mlflow.log_metric(\"f1_score_positive\", report['1']['f1-score'])\n",
    "    mlflow.log_metric(\"precision_negative\", report['0']['precision'])\n",
    "    mlflow.log_metric(\"recall_negative\", report['0']['recall'])\n",
    "    mlflow.log_metric(\"f1_score_negative\", report['0']['f1-score'])"
   ]
  },
  {
   "cell_type": "code",
   "execution_count": 51,
   "metadata": {},
   "outputs": [],
   "source": [
    "def train_naive_bayes():\n",
    " with mlflow.start_run(): \n",
    "    nb_model = MultinomialNB()\n",
    "\n",
    "    param_grid = {'alpha': [0.01, 0.1, 1]}\n",
    "\n",
    "    grid_search = GridSearchCV(nb_model, param_grid, cv=5)\n",
    "    grid_search.fit(X_train_tfidf, y_train)\n",
    "    best_model = grid_search.best_estimator_\n",
    "\n",
    "    y_pred = grid_search.predict(X_test_tfidf)\n",
    "    evaluate_model(y_test, y_pred, \"Naive Bayes\")\n",
    "\n",
    "    nb_probabilities = best_model.predict_proba(X_test_tfidf)\n",
    "    print(\"Naive Bayes Probabilities for each class (first 5 samples):\\n\", nb_probabilities[:5])\n",
    "        # Log parameters\n",
    "        \n",
    "    for param, value in grid_search.best_params_.items():\n",
    "            mlflow.log_param(param, value)\n",
    "\n",
    "        # Log the trained model\n",
    "    mlflow.sklearn.log_model(best_model, \"Naive Bayes\")\n",
    "\n",
    "        # Register the model in MLflow Model Registry\n",
    "    model_uri = f\"models:/{\"Naive Bayes\"}/latest\"\n",
    "    mlflow.register_model(\n",
    "       model_uri=f\"runs:/{mlflow.active_run().info.run_id}/{\"Naive Bayes\"}\",\n",
    "       name=\"Naive Bayes\"\n",
    "        )\n",
    "    print(f\"Model {\"Naive Bayes\"} registered successfully.\")\n",
    "\n",
    "    return  best_model"
   ]
  },
  {
   "cell_type": "code",
   "execution_count": 53,
   "metadata": {},
   "outputs": [],
   "source": [
    "def train_logistic_regression():\n",
    "  with mlflow.start_run():\n",
    "    lr_model = LogisticRegression(max_iter=100)\n",
    "    param_grid = {'C': [0.1, 1, 10]}\n",
    "\n",
    "    grid_search = GridSearchCV(lr_model, param_grid, cv=5)\n",
    "    grid_search.fit(X_train_tfidf, y_train)\n",
    "    best_model = grid_search.best_estimator_\n",
    "\n",
    "    y_pred = grid_search.predict(X_test_tfidf)\n",
    "    evaluate_model(y_test, y_pred, \"Logistic Regression\")\n",
    "\n",
    "    lr_probabilities = best_model.predict_proba(X_test_tfidf)\n",
    "    print(\"Logistic Regression Probabilities for each class:\\n\", lr_probabilities[:5])\n",
    "\n",
    "       # Log parameters\n",
    "    for param, value in grid_search.best_params_.items():\n",
    "            mlflow.log_param(param, value)\n",
    "\n",
    "        # Log the trained model\n",
    "    mlflow.sklearn.log_model(best_model, \"Logistic Regression\")\n",
    "\n",
    "        # Register the model in MLflow Model Registry\n",
    "    model_uri = f\"models:/{\"Logistic Regression\"}/latest\"\n",
    "    mlflow.register_model(\n",
    "            model_uri=f\"runs:/{mlflow.active_run().info.run_id}/{\"Logistic Regression\"}\",\n",
    "            name=\"Logistic Regression\"\n",
    "        )\n",
    "    \n",
    "    return best_model"
   ]
  },
  {
   "cell_type": "code",
   "execution_count": 52,
   "metadata": {},
   "outputs": [
    {
     "name": "stdout",
     "output_type": "stream",
     "text": [
      "\n",
      "Naive Bayes Evaluation:\n",
      "Accuracy: 0.828810623556582\n",
      "Classification Report:\n",
      "               precision    recall  f1-score   support\n",
      "\n",
      "           0       0.84      0.74      0.79      1491\n",
      "           1       0.82      0.89      0.86      1973\n",
      "\n",
      "    accuracy                           0.83      3464\n",
      "   macro avg       0.83      0.82      0.82      3464\n",
      "weighted avg       0.83      0.83      0.83      3464\n",
      "\n"
     ]
    },
    {
     "data": {
      "image/png": "[encoded data removed]",
      "text/plain": [
       "<Figure size 640x480 with 2 Axes>"
      ]
     },
     "metadata": {},
     "output_type": "display_data"
    },
    {
     "name": "stdout",
     "output_type": "stream",
     "text": [
      "Naive Bayes Probabilities for each class (first 5 samples):\n",
      " [[0.39799261 0.60200739]\n",
      " [0.24186676 0.75813324]\n",
      " [0.50426235 0.49573765]\n",
      " [0.15420134 0.84579866]\n",
      " [0.57266076 0.42733924]]\n"
     ]
    },
    {
     "name": "stderr",
     "output_type": "stream",
     "text": [
      "2025/02/03 10:27:11 WARNING mlflow.models.model: Model logged without a signature and input example. Please set `input_example` parameter when logging the model to auto infer the model signature.\n",
      "Successfully registered model 'Naive Bayes'.\n",
      "2025/02/03 10:27:14 INFO mlflow.store.model_registry.abstract_store: Waiting up to 300 seconds for model version to finish creation. Model name: Naive Bayes, version 1\n",
      "Created version '1' of model 'Naive Bayes'.\n"
     ]
    },
    {
     "name": "stdout",
     "output_type": "stream",
     "text": [
      "Model Naive Bayes registered successfully.\n"
     ]
    },
    {
     "name": "stderr",
     "output_type": "stream",
     "text": [
      "2025/02/03 10:27:15 INFO mlflow.tracking._tracking_service.client: 🏃 View run resilient-lamb-33 at: https://dagshub.com/Djamesdean/SAS-MLFLOW.mlflow/#/experiments/0/runs/fa00b76796254fcdb99c13d5d132260f.\n",
      "2025/02/03 10:27:15 INFO mlflow.tracking._tracking_service.client: 🧪 View experiment at: https://dagshub.com/Djamesdean/SAS-MLFLOW.mlflow/#/experiments/0.\n"
     ]
    }
   ],
   "source": [
    "nb_model = train_naive_bayes()"
   ]
  },
  {
   "cell_type": "code",
   "execution_count": 54,
   "metadata": {},
   "outputs": [
    {
     "name": "stdout",
     "output_type": "stream",
     "text": [
      "\n",
      "Logistic Regression Evaluation:\n",
      "Accuracy: 0.8498845265588915\n",
      "Classification Report:\n",
      "               precision    recall  f1-score   support\n",
      "\n",
      "           0       0.84      0.80      0.82      1491\n",
      "           1       0.86      0.88      0.87      1973\n",
      "\n",
      "    accuracy                           0.85      3464\n",
      "   macro avg       0.85      0.84      0.85      3464\n",
      "weighted avg       0.85      0.85      0.85      3464\n",
      "\n"
     ]
    },
    {
     "data": {
      "image/png": "[encoded data removed]",
      "text/plain": [
       "<Figure size 640x480 with 2 Axes>"
      ]
     },
     "metadata": {},
     "output_type": "display_data"
    },
    {
     "name": "stdout",
     "output_type": "stream",
     "text": [
      "Logistic Regression Probabilities for each class:\n",
      " [[0.41645685 0.58354315]\n",
      " [0.30974536 0.69025464]\n",
      " [0.69793791 0.30206209]\n",
      " [0.15250706 0.84749294]\n",
      " [0.09855356 0.90144644]]\n"
     ]
    },
    {
     "name": "stderr",
     "output_type": "stream",
     "text": [
      "2025/02/03 13:00:12 WARNING mlflow.models.model: Model logged without a signature and input example. Please set `input_example` parameter when logging the model to auto infer the model signature.\n",
      "Successfully registered model 'Logistic Regression'.\n",
      "2025/02/03 13:00:15 INFO mlflow.store.model_registry.abstract_store: Waiting up to 300 seconds for model version to finish creation. Model name: Logistic Regression, version 1\n",
      "Created version '1' of model 'Logistic Regression'.\n",
      "2025/02/03 13:00:16 INFO mlflow.tracking._tracking_service.client: 🏃 View run merciful-roo-888 at: https://dagshub.com/Djamesdean/SAS-MLFLOW.mlflow/#/experiments/0/runs/cad3e18ce6b44fad89a61464e618c402.\n",
      "2025/02/03 13:00:16 INFO mlflow.tracking._tracking_service.client: 🧪 View experiment at: https://dagshub.com/Djamesdean/SAS-MLFLOW.mlflow/#/experiments/0.\n"
     ]
    }
   ],
   "source": [
    "lr_model = train_logistic_regression()"
   ]
  },
  {
   "cell_type": "code",
   "execution_count": null,
   "metadata": {},
   "outputs": [],
   "source": []
  }
 ],
 "metadata": {
  "kernelspec": {
   "display_name": "Python 3",
   "language": "python",
   "name": "python3"
  },
  "language_info": {
   "codemirror_mode": {
    "name": "ipython",
    "version": 3
   },
   "file_extension": ".py",
   "mimetype": "text/x-python",
   "name": "python",
   "nbconvert_exporter": "python",
   "pygments_lexer": "ipython3",
   "version": "3.12.0"
  }
 },
 "nbformat": 4,
 "nbformat_minor": 2
}
